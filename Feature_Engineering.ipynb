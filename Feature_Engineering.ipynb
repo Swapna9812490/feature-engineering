{
  "cells": [
    {
      "cell_type": "code",
      "execution_count": null,
      "id": "fcb62f99-7c64-4353-94b6-c76184dd8db3",
      "metadata": {
        "id": "fcb62f99-7c64-4353-94b6-c76184dd8db3"
      },
      "outputs": [],
      "source": [
        "# Importing necessary libraries\n",
        "import pandas as pd\n",
        "import numpy as np\n",
        "from sklearn.preprocessing import MinMaxScaler, StandardScaler, KBinsDiscretizer\n",
        "from sklearn.model_selection import train_test_split\n",
        "from sklearn.ensemble import RandomForestClassifier\n",
        "from sklearn.metrics import classification_report"
      ]
    },
    {
      "cell_type": "code",
      "execution_count": null,
      "id": "30791324-7ddb-40f5-bcb3-7699ef4c0e68",
      "metadata": {
        "id": "30791324-7ddb-40f5-bcb3-7699ef4c0e68",
        "outputId": "9123d582-c4be-417e-8b3c-01c179dc034d"
      },
      "outputs": [
        {
          "name": "stdout",
          "output_type": "stream",
          "text": [
            "Original Dataset:\n",
            "   age  salary education_level  loan_approval\n",
            "0   56   38392     High School              1\n",
            "1   46   60535             PhD              1\n",
            "2   32  108603        Bachelor              0\n",
            "3   25   82256        Bachelor              1\n",
            "4   38  119135        Bachelor              0\n"
          ]
        }
      ],
      "source": [
        "# Generating a synthetic dataset\n",
        "np.random.seed(42)\n",
        "data = pd.DataFrame({\n",
        "    'age': np.random.randint(18, 60, 100),\n",
        "    'salary': np.random.randint(30000, 120000, 100),\n",
        "    'education_level': np.random.choice(['High School', 'Bachelor', 'Master', 'PhD'], 100),\n",
        "    'loan_approval': np.random.choice([0, 1], 100)  # Target variable\n",
        "})\n",
        "\n",
        "print(\"Original Dataset:\")\n",
        "print(data.head())"
      ]
    },
    {
      "cell_type": "code",
      "execution_count": null,
      "id": "f1e7f970-67b4-4c10-bb36-b2ca3cc03d34",
      "metadata": {
        "id": "f1e7f970-67b4-4c10-bb36-b2ca3cc03d34",
        "outputId": "9db99e8c-49fb-4c3b-ec4f-a5631a8d7c2e"
      },
      "outputs": [
        {
          "name": "stdout",
          "output_type": "stream",
          "text": [
            "\n",
            "After Scaling:\n",
            "   age  age_scaled  salary  salary_scaled\n",
            "0   56    0.926829   38392       0.091701\n",
            "1   46    0.682927   60535       0.339752\n",
            "2   32    0.341463  108603       0.878221\n",
            "3   25    0.170732   82256       0.583076\n",
            "4   38    0.487805  119135       0.996202\n"
          ]
        }
      ],
      "source": [
        "#1. Scaling Features\n",
        "\n",
        "scaler = MinMaxScaler()\n",
        "data['age_scaled'] = scaler.fit_transform(data[['age']])\n",
        "data['salary_scaled'] = scaler.fit_transform(data[['salary']])\n",
        "print(\"\\nAfter Scaling:\")\n",
        "print(data[['age', 'age_scaled', 'salary', 'salary_scaled']].head())"
      ]
    },
    {
      "cell_type": "markdown",
      "id": "fd19fbc2-9cc8-4fea-8c91-cae4cb1597cf",
      "metadata": {
        "id": "fd19fbc2-9cc8-4fea-8c91-cae4cb1597cf"
      },
      "source": [
        "Scaling: Used MinMaxScaler to normalize numerical features to a range between 0 and 1."
      ]
    },
    {
      "cell_type": "code",
      "execution_count": null,
      "id": "c446eaa1-a191-4ba1-b6a8-fc882c5d5d46",
      "metadata": {
        "id": "c446eaa1-a191-4ba1-b6a8-fc882c5d5d46",
        "outputId": "619c0f5a-18b8-4cc6-ffff-0927a4b09506"
      },
      "outputs": [
        {
          "name": "stdout",
          "output_type": "stream",
          "text": [
            "\n",
            "After Log Transformation:\n",
            "   salary  log_salary\n",
            "0   38392   10.555630\n",
            "1   60535   11.010994\n",
            "2  108603   11.595464\n",
            "3   82256   11.317604\n",
            "4  119135   11.688021\n"
          ]
        }
      ],
      "source": [
        "# 2. Transforming Features\n",
        "data['log_salary'] = np.log(data['salary'] + 1)\n",
        "print(\"\\nAfter Log Transformation:\")\n",
        "print(data[['salary', 'log_salary']].head())"
      ]
    },
    {
      "cell_type": "markdown",
      "id": "9cdf6f6d-f1b3-4d2e-8f58-3c059e873fb0",
      "metadata": {
        "id": "9cdf6f6d-f1b3-4d2e-8f58-3c059e873fb0"
      },
      "source": [
        "Transformation: Applied logarithmic transformation to reduce the effect of high salary values."
      ]
    },
    {
      "cell_type": "code",
      "execution_count": null,
      "id": "d08d2e09-e66b-4bab-847c-769f026994f7",
      "metadata": {
        "id": "d08d2e09-e66b-4bab-847c-769f026994f7",
        "outputId": "70e4d526-dc18-4eb5-c6b2-60765c30d1e6"
      },
      "outputs": [
        {
          "name": "stdout",
          "output_type": "stream",
          "text": [
            "\n",
            "After Discretization:\n",
            "   age  age_bins\n",
            "0   56       3.0\n",
            "1   46       2.0\n",
            "2   32       1.0\n",
            "3   25       0.0\n",
            "4   38       1.0\n"
          ]
        },
        {
          "name": "stderr",
          "output_type": "stream",
          "text": [
            "C:\\Users\\chait\\anaconda3\\Lib\\site-packages\\sklearn\\preprocessing\\_discretization.py:248: FutureWarning: In version 1.5 onwards, subsample=200_000 will be used by default. Set subsample explicitly to silence this warning in the mean time. Set subsample=None to disable subsampling explicitly.\n",
            "  warnings.warn(\n"
          ]
        }
      ],
      "source": [
        "# 3. Discretizing Features\n",
        "\n",
        "discretizer = KBinsDiscretizer(n_bins=4, encode='ordinal', strategy='uniform')\n",
        "data['age_bins'] = discretizer.fit_transform(data[['age']])\n",
        "print(\"\\nAfter Discretization:\")\n",
        "print(data[['age', 'age_bins']].head())"
      ]
    },
    {
      "cell_type": "markdown",
      "id": "b32bcb3a-a31b-4d35-b108-13b9a6a121f8",
      "metadata": {
        "id": "b32bcb3a-a31b-4d35-b108-13b9a6a121f8"
      },
      "source": [
        "Discretization: Used KBinsDiscretizer to create age bins, grouping ages into 4 categories."
      ]
    },
    {
      "cell_type": "markdown",
      "id": "fd6f4cc4-3156-4357-8d0b-899abfbba53a",
      "metadata": {
        "id": "fd6f4cc4-3156-4357-8d0b-899abfbba53a"
      },
      "source": [
        "Embedding: Encoded categorical education_level into dummy variables for the ML model."
      ]
    },
    {
      "cell_type": "markdown",
      "id": "25be544b-36db-4ddd-8073-49f2c769d1ac",
      "metadata": {
        "id": "25be544b-36db-4ddd-8073-49f2c769d1ac"
      },
      "source": [
        "Model Training: Applied RandomForestClassifier on the engineered features to predict loan_approval."
      ]
    },
    {
      "cell_type": "code",
      "execution_count": null,
      "id": "81d9b89a-d728-46be-aa8a-bf13ee055495",
      "metadata": {
        "scrolled": true,
        "id": "81d9b89a-d728-46be-aa8a-bf13ee055495",
        "outputId": "d072b2ed-57ad-4d66-fee7-7dab7ea8c02e"
      },
      "outputs": [
        {
          "name": "stdout",
          "output_type": "stream",
          "text": [
            "\n",
            "Classification Report:\n",
            "              precision    recall  f1-score   support\n",
            "\n",
            "           0       1.00      1.00      1.00        14\n",
            "           1       1.00      1.00      1.00        16\n",
            "\n",
            "    accuracy                           1.00        30\n",
            "   macro avg       1.00      1.00      1.00        30\n",
            "weighted avg       1.00      1.00      1.00        30\n",
            "\n"
          ]
        }
      ],
      "source": [
        "# ------------------------------\n",
        "# Preparing Data for ML Task\n",
        "# ------------------------------\n",
        "# Selecting features and target\n",
        "features = [col for col in data.columns if col not in ['education_level', 'age', 'salary']]\n",
        "X = data[features]\n",
        "y = data['loan_approval']\n",
        "\n",
        "# Splitting the data\n",
        "X_train, X_test, y_train, y_test = train_test_split(X, y, test_size=0.3, random_state=42)\n",
        "\n",
        "# Training a Random Forest Classifier\n",
        "clf = RandomForestClassifier(random_state=42)\n",
        "clf.fit(X_train, y_train)\n",
        "\n",
        "# Evaluating the Model\n",
        "y_pred = clf.predict(X_test)\n",
        "print(\"\\nClassification Report:\")\n",
        "print(classification_report(y_test, y_pred))"
      ]
    },
    {
      "cell_type": "markdown",
      "id": "8da21841-bb67-4aec-ad32-1f6f2bfc8402",
      "metadata": {
        "id": "8da21841-bb67-4aec-ad32-1f6f2bfc8402"
      },
      "source": [
        "This classification report indicates that the model performed perfectly on the test dataset:\n",
        "\n",
        "Class-Specific Metrics:\n",
        "\n",
        "Class 0 - Rejected Loans\n",
        "\n",
        "Precision: 1.00\n",
        "Out of all predictions for class 0, 100% were correct. No false positives were made.\n",
        "Recall: 1.00\n",
        "The model correctly identified all 14 instances of class 0. No false negatives occurred.\n",
        "F1-Score: 1.00\n",
        "The harmonic mean of precision and recall is also perfect since both metrics are perfect.\n",
        "Support: 14\n",
        "There were 14 instances of class 0 in the test set.\n",
        "\n",
        "Class 1 - Approved Loans\n",
        "\n",
        "Precision: 1.00\n",
        "Out of all predictions for class 1, 100% were correct. No false positives occurred.\n",
        "Recall: 1.00\n",
        "The model correctly identified all 16 instances of class 1. No false negatives occurred.\n",
        "F1-Score: 1.00\n",
        "The harmonic mean of precision and recall is also perfect.\n",
        "Support: 16\n",
        "There were 16 instances of class 1 in the test set."
      ]
    },
    {
      "cell_type": "code",
      "execution_count": null,
      "id": "90fb13be-62c8-41d9-bbd4-28260d62d219",
      "metadata": {
        "id": "90fb13be-62c8-41d9-bbd4-28260d62d219"
      },
      "outputs": [],
      "source": []
    }
  ],
  "metadata": {
    "kernelspec": {
      "display_name": "Python 3 (ipykernel)",
      "language": "python",
      "name": "python3"
    },
    "language_info": {
      "codemirror_mode": {
        "name": "ipython",
        "version": 3
      },
      "file_extension": ".py",
      "mimetype": "text/x-python",
      "name": "python",
      "nbconvert_exporter": "python",
      "pygments_lexer": "ipython3",
      "version": "3.12.4"
    },
    "colab": {
      "provenance": []
    }
  },
  "nbformat": 4,
  "nbformat_minor": 5
}